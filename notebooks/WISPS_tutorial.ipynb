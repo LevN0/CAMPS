{
 "cells": [
  {
   "cell_type": "markdown",
   "metadata": {},
   "source": [
    "# Getting to know WISPS"
   ]
  },
  {
   "cell_type": "markdown",
   "metadata": {},
   "source": [
    "First, Let's add the wisps package to the `PATH`..."
   ]
  },
  {
   "cell_type": "code",
   "execution_count": 1,
   "metadata": {
    "collapsed": true
   },
   "outputs": [],
   "source": [
    "import sys, os\n",
    "sys.path.append('../')"
   ]
  },
  {
   "cell_type": "markdown",
   "metadata": {},
   "source": [
    "...and then import it."
   ]
  },
  {
   "cell_type": "code",
   "execution_count": 3,
   "metadata": {},
   "outputs": [
    {
     "name": "stdout",
     "output_type": "stream",
     "text": [
      "hello world\n"
     ]
    }
   ],
   "source": [
    "import wisps\n",
    "print \"hello world\""
   ]
  },
  {
   "cell_type": "markdown",
   "metadata": {},
   "source": [
    "Let's see what subpackages are contained in WISPS"
   ]
  },
  {
   "cell_type": "code",
   "execution_count": 5,
   "metadata": {},
   "outputs": [
    {
     "name": "stdout",
     "output_type": "stream",
     "text": [
      "Found submodule data_mgmt (is a package: True)\n",
      "Found submodule grib2_to_nc (is a package: True)\n",
      "Found submodule marine_to_nc (is a package: True)\n",
      "Found submodule mathlib (is a package: True)\n",
      "Found submodule metar_to_nc (is a package: True)\n",
      "Found submodule mospred (is a package: True)\n",
      "Found submodule nclib (is a package: True)\n",
      "Found submodule registry (is a package: True)\n",
      "Found submodule scripts (is a package: True)\n",
      "Found submodule tdlpack_to_nc (is a package: True)\n",
      "Found submodule test (is a package: True)\n"
     ]
    }
   ],
   "source": [
    "import pkgutil\n",
    "package = wisps\n",
    "def get_submodules(package):\n",
    "    for importer, modname, ispkg in pkgutil.iter_modules(package.__path__):\n",
    "        print \"Found submodule %s (is a package: %s)\" % (modname, ispkg)\n",
    "get_submodules(package)"
   ]
  },
  {
   "cell_type": "markdown",
   "metadata": {},
   "source": [
    "#### Taking a look at the data_mgmt subpackage"
   ]
  },
  {
   "cell_type": "markdown",
   "metadata": {},
   "source": [
    "Modules in data_mgmt:"
   ]
  },
  {
   "cell_type": "code",
   "execution_count": 6,
   "metadata": {},
   "outputs": [
    {
     "name": "stdout",
     "output_type": "stream",
     "text": [
      "Found submodule Location (is a package: False)\n",
      "Found submodule Process (is a package: False)\n",
      "Found submodule Time (is a package: False)\n",
      "Found submodule Wisps_data (is a package: False)\n",
      "Found submodule fetch (is a package: False)\n",
      "Found submodule nc_writable (is a package: False)\n",
      "Found submodule reader (is a package: False)\n",
      "Found submodule test (is a package: True)\n",
      "Found submodule writer (is a package: False)\n"
     ]
    }
   ],
   "source": [
    "import wisps.data_mgmt\n",
    "package = wisps.data_mgmt\n",
    "get_submodules(package)"
   ]
  },
  {
   "cell_type": "code",
   "execution_count": 7,
   "metadata": {
    "collapsed": true
   },
   "outputs": [],
   "source": [
    "import wisps.data_mgmt.Wisps_data as wd"
   ]
  },
  {
   "cell_type": "code",
   "execution_count": 8,
   "metadata": {},
   "outputs": [
    {
     "name": "stdout",
     "output_type": "stream",
     "text": [
      "__abstractmethods__\n",
      "__add__\n",
      "__class__\n",
      "__delattr__\n",
      "__dict__\n",
      "__doc__\n",
      "__format__\n",
      "__getattr__\n",
      "__getattribute__\n",
      "__hash__\n",
      "__init__\n",
      "__metaclass__\n",
      "__module__\n",
      "__new__\n",
      "__reduce__\n",
      "__reduce_ex__\n",
      "__repr__\n",
      "__setattr__\n",
      "__sizeof__\n",
      "__str__\n",
      "__subclasshook__\n",
      "__weakref__\n",
      "_abc_cache\n",
      "_abc_negative_cache\n",
      "_abc_negative_cache_version\n",
      "_abc_registry\n",
      "_write_coordinate\n",
      "_write_elev\n",
      "_write_elev_bounds\n",
      "_write_plev\n",
      "_write_plev_bounds\n",
      "_write_time_bounds\n",
      "add_bounds_process\n",
      "add_data\n",
      "add_db_metadata\n",
      "add_elev_attributes\n",
      "add_fcstTime\n",
      "add_leadTime\n",
      "add_metadata\n",
      "add_nc_data\n",
      "add_nc_metadata\n",
      "add_plev_attributes\n",
      "add_process\n",
      "add_source\n",
      "add_to_database\n",
      "change_data_type\n",
      "check_correct_shape\n",
      "check_dimensions\n",
      "create_dimension\n",
      "create_dimensions\n",
      "get_cell_methods\n",
      "get_chunk_size\n",
      "get_coord_name\n",
      "get_coordinate\n",
      "get_data_type\n",
      "get_dimensions\n",
      "get_fill_value\n",
      "get_forecast_reference_time\n",
      "get_lead_time\n",
      "get_observedProperty\n",
      "get_phenom_time\n",
      "get_process_str\n",
      "get_result_time\n",
      "get_source\n",
      "get_time\n",
      "get_time_bounds\n",
      "get_variable_name\n",
      "has_bounds\n",
      "has_elev\n",
      "has_elev_bounds\n",
      "has_plev\n",
      "has_plev_bounds\n",
      "has_time_bounds\n",
      "in_metadata\n",
      "is_feature_of_interest\n",
      "is_model\n",
      "reshape\n",
      "set_dimensions\n",
      "write_to_nc\n"
     ]
    }
   ],
   "source": [
    "for i in dir(wd): print i"
   ]
  },
  {
   "cell_type": "code",
   "execution_count": 10,
   "metadata": {
    "scrolled": true
   },
   "outputs": [
    {
     "name": "stdout",
     "output_type": "stream",
     "text": [
      "\n",
      "    WISPS data object for storing metadata and accompanied objects describing the variable.\n",
      "\n",
      "    This class will attempt to\n",
      "    gather information from the metadata database on a given property, but\n",
      "    any gaps will need to be provided by the user. \n",
      "\n",
      "    Attributes:\n",
      "        name (str): `quick fill` name that can be used to initialize variable from template.\n",
      "        data (:obj:`np.array`): n-dimensional numpy array holding variable data.\n",
      "        dimensions (:obj:`list` of str): The names of the dimensions--ordered by dimension.\n",
      "        processes (:obj:`list` of :obj:`Process`): Process that modify this variable.\n",
      "        metadata (dict): Metadata with key-value pairs.\n",
      "        time (:obj:`list` of :obj:`Time`): Time objects describing this variable\n",
      "        properties (dict): Metadata that will not be written to NetCDF file \n",
      "            that may be used internally.\n",
      "\n",
      "    Args:\n",
      "        name (str): `quick-fill` name that can be used to initialize variable from template.\n",
      "        autofill (bool): If there should be an attempt to autofill metadata based on `name`.\n",
      "\n",
      "    Note:\n",
      "        Time objects must have a dimensionality that's compatible with ``data``.\n",
      "    \n"
     ]
    }
   ],
   "source": [
    "print wd.__doc__"
   ]
  },
  {
   "cell_type": "markdown",
   "metadata": {},
   "source": [
    "Now, Let's create a variable  \n",
    "A list of templates are available here: ../wisps/registery/netcdf.yml"
   ]
  },
  {
   "cell_type": "code",
   "execution_count": 11,
   "metadata": {
    "collapsed": true
   },
   "outputs": [],
   "source": [
    "myvar = wd('wind_speed')"
   ]
  },
  {
   "cell_type": "code",
   "execution_count": 13,
   "metadata": {},
   "outputs": [
    {
     "name": "stdout",
     "output_type": "stream",
     "text": [
      "\n",
      "***** wind_speed ******\n",
      "*\n",
      "* dtype               : float64\n",
      "* processes           : ( )\n",
      "* dimensions          : []\n",
      "* level               : 2\n",
      "Metadata:\n",
      "* comment             : Wind speed is set to -9 if winds are variable.\n",
      "* name                : wind_speed\n",
      "* valid_min           : 0.0\n",
      "* coordinates         : elev\n",
      "* long_name           : wind speed\n",
      "* standard_name       : wind_speed\n",
      "* units               : knot\n",
      "* valid_max           : 75.0\n",
      "* OM_observedProperty : https://codes.nws.noaa.gov/StatPP/Data/Met/Moment/WSpd\n",
      "\n",
      "Shape: \n",
      "(0,)\n",
      "Data: \n",
      "[]\n",
      "[]\n",
      "\n"
     ]
    }
   ],
   "source": [
    "print myvar"
   ]
  },
  {
   "cell_type": "markdown",
   "metadata": {},
   "source": [
    "Create some dummy data"
   ]
  },
  {
   "cell_type": "code",
   "execution_count": 14,
   "metadata": {},
   "outputs": [
    {
     "name": "stdout",
     "output_type": "stream",
     "text": [
      "[[ 28.87374018  10.25290673   6.64353024  12.74505772  21.07716114]\n",
      " [  5.83188437  13.56191844  18.56231085  21.0264135   20.90269642]\n",
      " [ 22.9068645   23.34291171  16.14120269  13.11267333  24.74473073]\n",
      " [ 28.75240412  29.23882016  10.70150573   4.07784075   7.29401451]\n",
      " [ 18.02419876  29.92394777  19.81769215   6.60959817  20.05961374]]\n"
     ]
    }
   ],
   "source": [
    "import numpy as np\n",
    "my_wspd_data = np.random.rand(5,5) * 30\n",
    "print my_wspd_data"
   ]
  },
  {
   "cell_type": "code",
   "execution_count": 15,
   "metadata": {
    "collapsed": true
   },
   "outputs": [],
   "source": [
    "myvar.data = my_wspd_data"
   ]
  },
  {
   "cell_type": "code",
   "execution_count": 16,
   "metadata": {
    "collapsed": true
   },
   "outputs": [],
   "source": [
    "import wisps.data_mgmt.writer as writer"
   ]
  },
  {
   "cell_type": "code",
   "execution_count": 17,
   "metadata": {},
   "outputs": [
    {
     "name": "stderr",
     "output_type": "stream",
     "text": [
      "ERROR:root:Problem: shape of data and number of dimensions dont match\n",
      "ERROR:root:Problem: with, wind_speed\n",
      "ERROR:root:dimensions of data not equal to dimensions attribute\n",
      "ERROR:root:len of shape is: 3\n",
      "ERROR:root:len of dims  is: 1\n",
      "ERROR:root:Will not write wind_speed\n"
     ]
    },
    {
     "ename": "ValueError",
     "evalue": "",
     "output_type": "error",
     "traceback": [
      "\u001b[0;31m---------------------------------------------------------------------------\u001b[0m",
      "\u001b[0;31mValueError\u001b[0m                                Traceback (most recent call last)",
      "\u001b[0;32m<ipython-input-17-b4babe35611d>\u001b[0m in \u001b[0;36m<module>\u001b[0;34m()\u001b[0m\n\u001b[0;32m----> 1\u001b[0;31m \u001b[0mwriter\u001b[0m\u001b[0;34m.\u001b[0m\u001b[0mwrite\u001b[0m\u001b[0;34m(\u001b[0m\u001b[0mmyvar\u001b[0m\u001b[0;34m,\u001b[0m \u001b[0;34m'test.nc'\u001b[0m\u001b[0;34m)\u001b[0m\u001b[0;34m\u001b[0m\u001b[0m\n\u001b[0m",
      "\u001b[0;32m/home/Riley.Conroy/dev/wisps/wisps/data_mgmt/writer.py\u001b[0m in \u001b[0;36mwrite\u001b[0;34m(wisps_data, filename, global_attrs, overwrite, write_to_db)\u001b[0m\n\u001b[1;32m     60\u001b[0m     \u001b[0mprimary_vars\u001b[0m \u001b[0;34m=\u001b[0m \u001b[0;34m[\u001b[0m\u001b[0;34m]\u001b[0m\u001b[0;34m\u001b[0m\u001b[0m\n\u001b[1;32m     61\u001b[0m     \u001b[0;32mfor\u001b[0m \u001b[0md\u001b[0m \u001b[0;32min\u001b[0m \u001b[0mwisps_data\u001b[0m\u001b[0;34m:\u001b[0m\u001b[0;34m\u001b[0m\u001b[0m\n\u001b[0;32m---> 62\u001b[0;31m         \u001b[0mname\u001b[0m \u001b[0;34m=\u001b[0m \u001b[0md\u001b[0m\u001b[0;34m.\u001b[0m\u001b[0mwrite_to_nc\u001b[0m\u001b[0;34m(\u001b[0m\u001b[0mnc\u001b[0m\u001b[0;34m)\u001b[0m\u001b[0;34m\u001b[0m\u001b[0m\n\u001b[0m\u001b[1;32m     63\u001b[0m         \u001b[0mprimary_vars\u001b[0m\u001b[0;34m.\u001b[0m\u001b[0mappend\u001b[0m\u001b[0;34m(\u001b[0m\u001b[0mname\u001b[0m\u001b[0;34m)\u001b[0m\u001b[0;34m\u001b[0m\u001b[0m\n\u001b[1;32m     64\u001b[0m         \u001b[0;32mtry\u001b[0m\u001b[0;34m:\u001b[0m\u001b[0;34m\u001b[0m\u001b[0m\n",
      "\u001b[0;32m/home/Riley.Conroy/dev/wisps/wisps/data_mgmt/Wisps_data.py\u001b[0m in \u001b[0;36mwrite_to_nc\u001b[0;34m(self, nc_handle)\u001b[0m\n\u001b[1;32m    646\u001b[0m         \u001b[0mself\u001b[0m\u001b[0;34m.\u001b[0m\u001b[0mmetadata\u001b[0m\u001b[0;34m[\u001b[0m\u001b[0;34m'ancillary_variables'\u001b[0m\u001b[0;34m]\u001b[0m \u001b[0;34m=\u001b[0m \u001b[0mancillary_variables\u001b[0m\u001b[0;34m\u001b[0m\u001b[0m\n\u001b[1;32m    647\u001b[0m \u001b[0;34m\u001b[0m\u001b[0m\n\u001b[0;32m--> 648\u001b[0;31m         \u001b[0mself\u001b[0m\u001b[0;34m.\u001b[0m\u001b[0mcheck_correct_shape\u001b[0m\u001b[0;34m(\u001b[0m\u001b[0;34m)\u001b[0m\u001b[0;34m\u001b[0m\u001b[0m\n\u001b[0m\u001b[1;32m    649\u001b[0m \u001b[0;34m\u001b[0m\u001b[0m\n\u001b[1;32m    650\u001b[0m         \u001b[0;31m# Check if dimensions are defined in the netCDF file.\u001b[0m\u001b[0;34m\u001b[0m\u001b[0;34m\u001b[0m\u001b[0m\n",
      "\u001b[0;32m/home/Riley.Conroy/dev/wisps/wisps/data_mgmt/Wisps_data.py\u001b[0m in \u001b[0;36mcheck_correct_shape\u001b[0;34m(self)\u001b[0m\n\u001b[1;32m    783\u001b[0m             \u001b[0mlogging\u001b[0m\u001b[0;34m.\u001b[0m\u001b[0merror\u001b[0m\u001b[0;34m(\u001b[0m\u001b[0;34m'len of dims  is: '\u001b[0m \u001b[0;34m+\u001b[0m \u001b[0mstr\u001b[0m\u001b[0;34m(\u001b[0m\u001b[0mlen\u001b[0m\u001b[0;34m(\u001b[0m\u001b[0mself\u001b[0m\u001b[0;34m.\u001b[0m\u001b[0mdimensions\u001b[0m\u001b[0;34m)\u001b[0m\u001b[0;34m)\u001b[0m\u001b[0;34m)\u001b[0m\u001b[0;34m\u001b[0m\u001b[0m\n\u001b[1;32m    784\u001b[0m             \u001b[0mlogging\u001b[0m\u001b[0;34m.\u001b[0m\u001b[0merror\u001b[0m\u001b[0;34m(\u001b[0m\u001b[0;34m\"Will not write \"\u001b[0m \u001b[0;34m+\u001b[0m \u001b[0mself\u001b[0m\u001b[0;34m.\u001b[0m\u001b[0mname\u001b[0m\u001b[0;34m)\u001b[0m\u001b[0;34m\u001b[0m\u001b[0m\n\u001b[0;32m--> 785\u001b[0;31m             \u001b[0;32mraise\u001b[0m \u001b[0mValueError\u001b[0m\u001b[0;34m\u001b[0m\u001b[0m\n\u001b[0m\u001b[1;32m    786\u001b[0m \u001b[0;34m\u001b[0m\u001b[0m\n\u001b[1;32m    787\u001b[0m     \u001b[0;32mdef\u001b[0m \u001b[0madd_nc_data\u001b[0m\u001b[0;34m(\u001b[0m\u001b[0mself\u001b[0m\u001b[0;34m,\u001b[0m \u001b[0mnc_var\u001b[0m\u001b[0;34m)\u001b[0m\u001b[0;34m:\u001b[0m\u001b[0;34m\u001b[0m\u001b[0m\n",
      "\u001b[0;31mValueError\u001b[0m: "
     ]
    }
   ],
   "source": [
    "writer.write(myvar, 'test.nc')"
   ]
  },
  {
   "cell_type": "markdown",
   "metadata": {},
   "source": [
    "## Whoops!\n",
    "We forgot to define the dimensions."
   ]
  },
  {
   "cell_type": "code",
   "execution_count": 23,
   "metadata": {
    "collapsed": true
   },
   "outputs": [],
   "source": [
    "myvar.dimensions = ['x','y']\n",
    "myvar.data = my_wspd_data"
   ]
  },
  {
   "cell_type": "code",
   "execution_count": null,
   "metadata": {},
   "outputs": [],
   "source": [
    "writer.write(myvar, 'test.nc')\n"
   ]
  },
  {
   "cell_type": "code",
   "execution_count": 25,
   "metadata": {
    "collapsed": true
   },
   "outputs": [],
   "source": [
    "!ncdump -h test.nc\n"
   ]
  },
  {
   "cell_type": "code",
   "execution_count": 26,
   "metadata": {
    "collapsed": true
   },
   "outputs": [],
   "source": [
    "!rm test.nc"
   ]
  },
  {
   "cell_type": "code",
   "execution_count": 1,
   "metadata": {},
   "outputs": [
    {
     "name": "stdout",
     "output_type": "stream",
     "text": [
      "Done\r\n"
     ]
    }
   ],
   "source": [
    "!echo \"Done\""
   ]
  },
  {
   "cell_type": "code",
   "execution_count": null,
   "metadata": {
    "collapsed": true
   },
   "outputs": [],
   "source": []
  }
 ],
 "metadata": {
  "kernelspec": {
   "display_name": "Python 2",
   "language": "python",
   "name": "python2"
  },
  "language_info": {
   "codemirror_mode": {
    "name": "ipython",
    "version": 2
   },
   "file_extension": ".py",
   "mimetype": "text/x-python",
   "name": "python",
   "nbconvert_exporter": "python",
   "pygments_lexer": "ipython2",
   "version": "2.7.13"
  }
 },
 "nbformat": 4,
 "nbformat_minor": 1
}

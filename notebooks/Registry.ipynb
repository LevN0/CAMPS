{
 "cells": [
  {
   "cell_type": "markdown",
   "metadata": {},
   "source": [
    "# Exploring the registry"
   ]
  },
  {
   "cell_type": "code",
   "execution_count": 2,
   "metadata": {
    "collapsed": true
   },
   "outputs": [],
   "source": [
    "import os, sys\n",
    "sys.path.append('../')"
   ]
  },
  {
   "cell_type": "code",
   "execution_count": 5,
   "metadata": {},
   "outputs": [],
   "source": [
    "import wisps.registry.util as cfg"
   ]
  },
  {
   "cell_type": "code",
   "execution_count": 6,
   "metadata": {},
   "outputs": [
    {
     "name": "stdout",
     "output_type": "stream",
     "text": [
      "['CONFIG_PATH', '__builtins__', '__doc__', '__file__', '__name__', '__package__', '_cache', 'inspect', 'logging', 'nc_struct', 'os', 'read_cache', 'read_dimensions', 'read_gfs_tdlpack_lookup', 'read_globals', 'read_grib2_control', 'read_grib2_lookup', 'read_marine_control', 'read_marine_lookup', 'read_metar_control', 'read_metar_lookup', 'read_metar_nc_lookup', 'read_mosID_lookup', 'read_mospred_control', 'read_nc_config', 'read_nc_meta', 'read_observedProperties', 'read_procedures', 'read_variables', 'read_yaml', 'sys', 'write_cache', 'yaml']\n"
     ]
    }
   ],
   "source": [
    "print dir(cfg)"
   ]
  },
  {
   "cell_type": "code",
   "execution_count": 8,
   "metadata": {},
   "outputs": [
    {
     "name": "stdout",
     "output_type": "stream",
     "text": [
      "total 2016\r\n",
      "-rw-r--r-- 1 Riley.Conroy mdl    632 Jun 27 14:39 constants.py\r\n",
      "-rw-r--r-- 1 Riley.Conroy mdl    638 Oct 12 14:24 constants.pyc\r\n",
      "-rwxr-xr-x 1 Riley.Conroy mdl    746 Aug 28 13:46 create_default_variable.sh\r\n",
      "drwxr-xr-x 2 Riley.Conroy mdl   2048 Oct 12 19:29 db\r\n",
      "-rwxr-xr-x 1 Riley.Conroy mdl    186 Aug 28 13:46 get_dict_values.sh\r\n",
      "-rwxr-xr-x 1 Riley.Conroy mdl   2238 Sep 18 18:14 grib2_control.yml\r\n",
      "-rwxr-xr-x 1 Riley.Conroy mdl   8379 Sep 29 16:36 grib2_to_nc.yml\r\n",
      "-rwxr-xr-x 1 Riley.Conroy mdl      0 Apr 17 14:34 __init__.py\r\n",
      "-rw-r--r-- 1 Riley.Conroy mdl    142 Oct 12 14:24 __init__.pyc\r\n",
      "-rwxr-xr-x 1 Riley.Conroy mdl    864 Apr  3  2017 marine_control.yml\r\n",
      "-rwxr-xr-x 1 Riley.Conroy mdl    410 Mar 20  2017 marine_to_nc.yml\r\n",
      "-rwxr-xr-x 1 Riley.Conroy mdl   1352 Jan 31  2017 mdl_gfs_nonpcp.wgrib2\r\n",
      "-rwxr-xr-x 1 Riley.Conroy mdl     83 Jan 31  2017 mdl_gfs_pcp.wgrib2\r\n",
      "-rwxr-xr-x 1 Riley.Conroy mdl   1242 Oct  5 12:54 metar_control.yml\r\n",
      "-rwxr-xr-x 1 Riley.Conroy mdl  41202 Feb  9  2017 metar.lst\r\n",
      "-rwxr-xr-x 1 Riley.Conroy mdl   1549 Jun  2 18:57 mosID_to_nc.yml\r\n",
      "-rwxr-xr-x 1 Riley.Conroy mdl   6184 Mar 20  2017 mosPlainLanguage_to_nc.yml\r\n",
      "-rw-r--r-- 1 Riley.Conroy mdl   1622 Sep  5 20:18 mospred_control.yml\r\n",
      "-rwxr-xr-x 1 Riley.Conroy mdl    205 Feb  9  2017 nc_dims.yml\r\n",
      "-rwxr-xr-x 1 Riley.Conroy mdl    314 Feb  9  2017 nc_globals.yml\r\n",
      "-rwxr-xr-x 1 Riley.Conroy mdl   1315 Feb  9  2017 nc_to_metar.yml\r\n",
      "-rwxr-xr-x 1 Riley.Conroy mdl  69445 Oct 12 18:54 netcdf.yml\r\n",
      "-rwxr-xr-x 1 Riley.Conroy mdl  67095 Jun 29 14:47 netcdf.yml.bk\r\n",
      "-rw-r--r-- 1 Riley.Conroy mdl   4292 Apr  3  2017 ObservedProperties.yml\r\n",
      "-rw-r--r-- 1 Riley.Conroy mdl    181 Aug  3 19:01 predictors.yml\r\n",
      "-rw-r--r-- 1 Riley.Conroy mdl   1061 Sep 28 13:33 procedures.yml\r\n",
      "-rwxr-xr-x 1 Riley.Conroy mdl 954650 Feb  9  2017 station.tbl\r\n",
      "-rw-r--r-- 1 Riley.Conroy mdl      0 May  1 16:35 test.nc\r\n",
      "-rwxr-xr-x 1 Riley.Conroy mdl      9 Feb  9  2017 test.yml\r\n",
      "-rwxr-xr-x 1 Riley.Conroy mdl   4955 Jun  2 18:57 util.py\r\n",
      "-rw-r--r-- 1 Riley.Conroy mdl   7496 Oct 12 14:24 util.pyc\r\n"
     ]
    }
   ],
   "source": [
    "!ls -l ../wisps/registry"
   ]
  },
  {
   "cell_type": "code",
   "execution_count": null,
   "metadata": {
    "collapsed": true
   },
   "outputs": [],
   "source": []
  }
 ],
 "metadata": {
  "kernelspec": {
   "display_name": "Python 2",
   "language": "python",
   "name": "python2"
  },
  "language_info": {
   "codemirror_mode": {
    "name": "ipython",
    "version": 2
   },
   "file_extension": ".py",
   "mimetype": "text/x-python",
   "name": "python",
   "nbconvert_exporter": "python",
   "pygments_lexer": "ipython2",
   "version": "2.7.13"
  }
 },
 "nbformat": 4,
 "nbformat_minor": 2
}
